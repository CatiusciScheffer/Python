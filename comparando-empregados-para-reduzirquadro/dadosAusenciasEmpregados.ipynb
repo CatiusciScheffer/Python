{
 "cells": [
  {
   "cell_type": "code",
   "execution_count": 1,
   "metadata": {
    "hide_input": true
   },
   "outputs": [
    {
     "ename": "ModuleNotFoundError",
     "evalue": "No module named 'pandas'",
     "output_type": "error",
     "traceback": [
      "\u001b[1;31m---------------------------------------------------------------------------\u001b[0m",
      "\u001b[1;31mModuleNotFoundError\u001b[0m                       Traceback (most recent call last)",
      "Cell \u001b[1;32mIn[1], line 1\u001b[0m\n\u001b[1;32m----> 1\u001b[0m \u001b[39mimport\u001b[39;00m \u001b[39mpandas\u001b[39;00m \u001b[39mas\u001b[39;00m \u001b[39mpd\u001b[39;00m\n\u001b[0;32m      2\u001b[0m \u001b[39mimport\u001b[39;00m \u001b[39mnumpy\u001b[39;00m \u001b[39mas\u001b[39;00m \u001b[39mnp\u001b[39;00m;\n\u001b[0;32m      3\u001b[0m \u001b[39mimport\u001b[39;00m \u001b[39mseaborn\u001b[39;00m \u001b[39mas\u001b[39;00m \u001b[39msns\u001b[39;00m; sns\u001b[39m.\u001b[39mset();\n",
      "\u001b[1;31mModuleNotFoundError\u001b[0m: No module named 'pandas'"
     ]
    }
   ],
   "source": [
    "import pandas as pd\n",
    "import numpy as np;\n",
    "import seaborn as sns; sns.set();\n",
    "import matplotlib.pyplot as plt;\n",
    "import plotly.express as px;\n",
    "import ssl"
   ]
  },
  {
   "cell_type": "code",
   "execution_count": null,
   "metadata": {
    "hide_input": true
   },
   "outputs": [],
   "source": [
    "df_lev = pd.read_excel(\"Movimentos.xlsx\")"
   ]
  },
  {
   "cell_type": "markdown",
   "metadata": {},
   "source": [
    "## RESUMO DAS FALTAS COM E SEM ATESTADOS 04/2022 A 07/2022\n",
    "RESUMO SELECIONANDO APENAS OS 10 MAIORES VALORES!"
   ]
  },
  {
   "cell_type": "markdown",
   "metadata": {
    "hide_input": true
   },
   "source": [
    "### TOP 10 - FALTAS + DSR + ATESTADOS"
   ]
  },
  {
   "cell_type": "code",
   "execution_count": null,
   "metadata": {
    "hide_input": true
   },
   "outputs": [
    {
     "data": {
      "text/html": [
       "<div>\n",
       "<style scoped>\n",
       "    .dataframe tbody tr th:only-of-type {\n",
       "        vertical-align: middle;\n",
       "    }\n",
       "\n",
       "    .dataframe tbody tr th {\n",
       "        vertical-align: top;\n",
       "    }\n",
       "\n",
       "    .dataframe thead th {\n",
       "        text-align: right;\n",
       "    }\n",
       "</style>\n",
       "<table border=\"1\" class=\"dataframe\">\n",
       "  <thead>\n",
       "    <tr style=\"text-align: right;\">\n",
       "      <th></th>\n",
       "      <th>VALOR_CALCULADO</th>\n",
       "    </tr>\n",
       "    <tr>\n",
       "      <th>NOME</th>\n",
       "      <th></th>\n",
       "    </tr>\n",
       "  </thead>\n",
       "  <tbody>\n",
       "    <tr>\n",
       "      <th>EMPREGADO 41</th>\n",
       "      <td>843.57</td>\n",
       "    </tr>\n",
       "    <tr>\n",
       "      <th>EMPREGADO 73</th>\n",
       "      <td>743.72</td>\n",
       "    </tr>\n",
       "    <tr>\n",
       "      <th>EMPREGADO 50</th>\n",
       "      <td>637.26</td>\n",
       "    </tr>\n",
       "    <tr>\n",
       "      <th>EMPREGADO 61</th>\n",
       "      <td>500.20</td>\n",
       "    </tr>\n",
       "    <tr>\n",
       "      <th>EMPREGADO 15</th>\n",
       "      <td>429.27</td>\n",
       "    </tr>\n",
       "    <tr>\n",
       "      <th>EMPREGADO 51</th>\n",
       "      <td>423.90</td>\n",
       "    </tr>\n",
       "    <tr>\n",
       "      <th>EMPREGADO 33</th>\n",
       "      <td>407.11</td>\n",
       "    </tr>\n",
       "    <tr>\n",
       "      <th>EMPREGADO 49</th>\n",
       "      <td>353.25</td>\n",
       "    </tr>\n",
       "    <tr>\n",
       "      <th>EMPREGADO 23</th>\n",
       "      <td>343.92</td>\n",
       "    </tr>\n",
       "    <tr>\n",
       "      <th>EMPREGADO 86</th>\n",
       "      <td>339.12</td>\n",
       "    </tr>\n",
       "  </tbody>\n",
       "</table>\n",
       "</div>"
      ],
      "text/plain": [
       "              VALOR_CALCULADO\n",
       "NOME                         \n",
       "EMPREGADO 41           843.57\n",
       "EMPREGADO 73           743.72\n",
       "EMPREGADO 50           637.26\n",
       "EMPREGADO 61           500.20\n",
       "EMPREGADO 15           429.27\n",
       "EMPREGADO 51           423.90\n",
       "EMPREGADO 33           407.11\n",
       "EMPREGADO 49           353.25\n",
       "EMPREGADO 23           343.92\n",
       "EMPREGADO 86           339.12"
      ]
     },
     "metadata": {},
     "output_type": "display_data"
    }
   ],
   "source": [
    "df_mot_falta_dsr = df_lev.groupby('NOME')[['MOTIVO', 'VALOR_CALCULADO']].sum().reset_index()\n",
    "df_mot_falta_dsr = df_mot_falta_dsr.groupby('NOME').agg({\n",
    "            'VALOR_CALCULADO': sum\n",
    "        })\n",
    "df_mot_falta_dsr= df_mot_falta_dsr.sort_values(by=['VALOR_CALCULADO'], ascending=False)\n",
    "display(df_mot_falta_dsr.head(10))"
   ]
  },
  {
   "cell_type": "markdown",
   "metadata": {},
   "source": [
    "### TOP 10 - ATESTADOS"
   ]
  },
  {
   "cell_type": "code",
   "execution_count": null,
   "metadata": {
    "hide_input": true
   },
   "outputs": [
    {
     "data": {
      "text/html": [
       "<div>\n",
       "<style scoped>\n",
       "    .dataframe tbody tr th:only-of-type {\n",
       "        vertical-align: middle;\n",
       "    }\n",
       "\n",
       "    .dataframe tbody tr th {\n",
       "        vertical-align: top;\n",
       "    }\n",
       "\n",
       "    .dataframe thead th {\n",
       "        text-align: right;\n",
       "    }\n",
       "</style>\n",
       "<table border=\"1\" class=\"dataframe\">\n",
       "  <thead>\n",
       "    <tr style=\"text-align: right;\">\n",
       "      <th></th>\n",
       "      <th>VALOR_CALCULADO</th>\n",
       "    </tr>\n",
       "    <tr>\n",
       "      <th>NOME</th>\n",
       "      <th></th>\n",
       "    </tr>\n",
       "  </thead>\n",
       "  <tbody>\n",
       "    <tr>\n",
       "      <th>EMPREGADO 41</th>\n",
       "      <td>784.22</td>\n",
       "    </tr>\n",
       "    <tr>\n",
       "      <th>EMPREGADO 51</th>\n",
       "      <td>423.90</td>\n",
       "    </tr>\n",
       "    <tr>\n",
       "      <th>EMPREGADO 61</th>\n",
       "      <td>381.51</td>\n",
       "    </tr>\n",
       "    <tr>\n",
       "      <th>EMPREGADO 86</th>\n",
       "      <td>339.12</td>\n",
       "    </tr>\n",
       "    <tr>\n",
       "      <th>EMPREGADO 15</th>\n",
       "      <td>306.62</td>\n",
       "    </tr>\n",
       "    <tr>\n",
       "      <th>EMPREGADO 46</th>\n",
       "      <td>305.21</td>\n",
       "    </tr>\n",
       "    <tr>\n",
       "      <th>EMPREGADO 24</th>\n",
       "      <td>298.14</td>\n",
       "    </tr>\n",
       "    <tr>\n",
       "      <th>EMPREGADO 17</th>\n",
       "      <td>296.73</td>\n",
       "    </tr>\n",
       "    <tr>\n",
       "      <th>EMPREGADO 74</th>\n",
       "      <td>296.73</td>\n",
       "    </tr>\n",
       "    <tr>\n",
       "      <th>EMPREGADO 90</th>\n",
       "      <td>262.82</td>\n",
       "    </tr>\n",
       "  </tbody>\n",
       "</table>\n",
       "</div>"
      ],
      "text/plain": [
       "              VALOR_CALCULADO\n",
       "NOME                         \n",
       "EMPREGADO 41           784.22\n",
       "EMPREGADO 51           423.90\n",
       "EMPREGADO 61           381.51\n",
       "EMPREGADO 86           339.12\n",
       "EMPREGADO 15           306.62\n",
       "EMPREGADO 46           305.21\n",
       "EMPREGADO 24           298.14\n",
       "EMPREGADO 17           296.73\n",
       "EMPREGADO 74           296.73\n",
       "EMPREGADO 90           262.82"
      ]
     },
     "metadata": {},
     "output_type": "display_data"
    }
   ],
   "source": [
    "df_selecao_motivo = df_lev.groupby(['MOTIVO', 'NOME', 'VALOR_CALCULADO']).sum().reset_index()\n",
    "df_motivo1 = df_selecao_motivo[df_selecao_motivo['MOTIVO'] == 'ATESTADO/JUST']\n",
    "df_motivo1= df_motivo1[['MOTIVO', 'NOME', 'VALOR_CALCULADO']]\n",
    "df_motivo1 = df_motivo1.groupby('NOME').agg({\n",
    "            'VALOR_CALCULADO': sum\n",
    "        })\n",
    "df_motivo1= df_motivo1.sort_values(by=['VALOR_CALCULADO'], ascending=False)\n",
    "display(df_motivo1.head(10))"
   ]
  },
  {
   "cell_type": "markdown",
   "metadata": {},
   "source": [
    "### TOP 10 - FALTAS"
   ]
  },
  {
   "cell_type": "code",
   "execution_count": null,
   "metadata": {
    "hide_input": true
   },
   "outputs": [
    {
     "data": {
      "text/html": [
       "<div>\n",
       "<style scoped>\n",
       "    .dataframe tbody tr th:only-of-type {\n",
       "        vertical-align: middle;\n",
       "    }\n",
       "\n",
       "    .dataframe tbody tr th {\n",
       "        vertical-align: top;\n",
       "    }\n",
       "\n",
       "    .dataframe thead th {\n",
       "        text-align: right;\n",
       "    }\n",
       "</style>\n",
       "<table border=\"1\" class=\"dataframe\">\n",
       "  <thead>\n",
       "    <tr style=\"text-align: right;\">\n",
       "      <th></th>\n",
       "      <th>VALOR_CALCULADO</th>\n",
       "    </tr>\n",
       "    <tr>\n",
       "      <th>NOME</th>\n",
       "      <th></th>\n",
       "    </tr>\n",
       "  </thead>\n",
       "  <tbody>\n",
       "    <tr>\n",
       "      <th>EMPREGADO 73</th>\n",
       "      <td>536.28</td>\n",
       "    </tr>\n",
       "    <tr>\n",
       "      <th>EMPREGADO 33</th>\n",
       "      <td>227.09</td>\n",
       "    </tr>\n",
       "    <tr>\n",
       "      <th>EMPREGADO 50</th>\n",
       "      <td>178.03</td>\n",
       "    </tr>\n",
       "    <tr>\n",
       "      <th>EMPREGADO 40</th>\n",
       "      <td>128.14</td>\n",
       "    </tr>\n",
       "    <tr>\n",
       "      <th>EMPREGADO 10</th>\n",
       "      <td>120.68</td>\n",
       "    </tr>\n",
       "    <tr>\n",
       "      <th>EMPREGADO 11</th>\n",
       "      <td>99.35</td>\n",
       "    </tr>\n",
       "    <tr>\n",
       "      <th>EMPREGADO 13</th>\n",
       "      <td>91.13</td>\n",
       "    </tr>\n",
       "    <tr>\n",
       "      <th>EMPREGADO 75</th>\n",
       "      <td>87.35</td>\n",
       "    </tr>\n",
       "    <tr>\n",
       "      <th>EMPREGADO 65</th>\n",
       "      <td>82.76</td>\n",
       "    </tr>\n",
       "    <tr>\n",
       "      <th>EMPREGADO 59</th>\n",
       "      <td>73.59</td>\n",
       "    </tr>\n",
       "  </tbody>\n",
       "</table>\n",
       "</div>"
      ],
      "text/plain": [
       "              VALOR_CALCULADO\n",
       "NOME                         \n",
       "EMPREGADO 73           536.28\n",
       "EMPREGADO 33           227.09\n",
       "EMPREGADO 50           178.03\n",
       "EMPREGADO 40           128.14\n",
       "EMPREGADO 10           120.68\n",
       "EMPREGADO 11            99.35\n",
       "EMPREGADO 13            91.13\n",
       "EMPREGADO 75            87.35\n",
       "EMPREGADO 65            82.76\n",
       "EMPREGADO 59            73.59"
      ]
     },
     "metadata": {},
     "output_type": "display_data"
    }
   ],
   "source": [
    "df_motivo2 = df_selecao_motivo[df_selecao_motivo['MOTIVO'] == 'FALTA']\n",
    "df_motivo2= df_motivo2[['MOTIVO', 'NOME', 'VALOR_CALCULADO']]\n",
    "df_motivo2 = df_motivo2.groupby('NOME').agg({\n",
    "            'VALOR_CALCULADO': sum\n",
    "        })\n",
    "df_motivo2= df_motivo2.sort_values(by=['VALOR_CALCULADO'], ascending=False)\n",
    "display(df_motivo2.head(10))"
   ]
  },
  {
   "cell_type": "markdown",
   "metadata": {},
   "source": [
    "### TOP 10 - DSR"
   ]
  },
  {
   "cell_type": "code",
   "execution_count": null,
   "metadata": {
    "hide_input": true
   },
   "outputs": [
    {
     "data": {
      "text/html": [
       "<div>\n",
       "<style scoped>\n",
       "    .dataframe tbody tr th:only-of-type {\n",
       "        vertical-align: middle;\n",
       "    }\n",
       "\n",
       "    .dataframe tbody tr th {\n",
       "        vertical-align: top;\n",
       "    }\n",
       "\n",
       "    .dataframe thead th {\n",
       "        text-align: right;\n",
       "    }\n",
       "</style>\n",
       "<table border=\"1\" class=\"dataframe\">\n",
       "  <thead>\n",
       "    <tr style=\"text-align: right;\">\n",
       "      <th></th>\n",
       "      <th>VALOR_CALCULADO</th>\n",
       "    </tr>\n",
       "    <tr>\n",
       "      <th>NOME</th>\n",
       "      <th></th>\n",
       "    </tr>\n",
       "  </thead>\n",
       "  <tbody>\n",
       "    <tr>\n",
       "      <th>EMPREGADO 33</th>\n",
       "      <td>180.02</td>\n",
       "    </tr>\n",
       "    <tr>\n",
       "      <th>EMPREGADO 73</th>\n",
       "      <td>122.65</td>\n",
       "    </tr>\n",
       "    <tr>\n",
       "      <th>EMPREGADO 10</th>\n",
       "      <td>120.66</td>\n",
       "    </tr>\n",
       "    <tr>\n",
       "      <th>EMPREGADO 15</th>\n",
       "      <td>61.33</td>\n",
       "    </tr>\n",
       "    <tr>\n",
       "      <th>EMPREGADO 54</th>\n",
       "      <td>61.33</td>\n",
       "    </tr>\n",
       "    <tr>\n",
       "      <th>EMPREGADO 43</th>\n",
       "      <td>61.32</td>\n",
       "    </tr>\n",
       "    <tr>\n",
       "      <th>EMPREGADO 13</th>\n",
       "      <td>59.35</td>\n",
       "    </tr>\n",
       "    <tr>\n",
       "      <th>EMPREGADO 40</th>\n",
       "      <td>59.35</td>\n",
       "    </tr>\n",
       "    <tr>\n",
       "      <th>EMPREGADO 50</th>\n",
       "      <td>59.35</td>\n",
       "    </tr>\n",
       "    <tr>\n",
       "      <th>EMPREGADO 75</th>\n",
       "      <td>59.35</td>\n",
       "    </tr>\n",
       "  </tbody>\n",
       "</table>\n",
       "</div>"
      ],
      "text/plain": [
       "              VALOR_CALCULADO\n",
       "NOME                         \n",
       "EMPREGADO 33           180.02\n",
       "EMPREGADO 73           122.65\n",
       "EMPREGADO 10           120.66\n",
       "EMPREGADO 15            61.33\n",
       "EMPREGADO 54            61.33\n",
       "EMPREGADO 43            61.32\n",
       "EMPREGADO 13            59.35\n",
       "EMPREGADO 40            59.35\n",
       "EMPREGADO 50            59.35\n",
       "EMPREGADO 75            59.35"
      ]
     },
     "metadata": {},
     "output_type": "display_data"
    }
   ],
   "source": [
    "df_motivo3 = df_selecao_motivo[df_selecao_motivo['MOTIVO'] == 'DSR']\n",
    "df_motivo3= df_motivo3[['MOTIVO', 'NOME', 'VALOR_CALCULADO']]\n",
    "df_motivo3 = df_motivo3.groupby('NOME').agg({\n",
    "            'VALOR_CALCULADO': sum\n",
    "        })\n",
    "df_motivo3= df_motivo3.sort_values(by=['VALOR_CALCULADO'], ascending=False)\n",
    "display(df_motivo3.head(10))"
   ]
  },
  {
   "cell_type": "markdown",
   "metadata": {},
   "source": [
    "### CUSTO TOTAL POR MOTIVO (FALTA, DSR E ATESTADOS)"
   ]
  },
  {
   "cell_type": "code",
   "execution_count": null,
   "metadata": {
    "hide_input": true
   },
   "outputs": [
    {
     "data": {
      "text/html": [
       "<div>\n",
       "<style scoped>\n",
       "    .dataframe tbody tr th:only-of-type {\n",
       "        vertical-align: middle;\n",
       "    }\n",
       "\n",
       "    .dataframe tbody tr th {\n",
       "        vertical-align: top;\n",
       "    }\n",
       "\n",
       "    .dataframe thead th {\n",
       "        text-align: right;\n",
       "    }\n",
       "</style>\n",
       "<table border=\"1\" class=\"dataframe\">\n",
       "  <thead>\n",
       "    <tr style=\"text-align: right;\">\n",
       "      <th></th>\n",
       "      <th>MOTIVO</th>\n",
       "      <th>VALOR_CALCULADO</th>\n",
       "    </tr>\n",
       "  </thead>\n",
       "  <tbody>\n",
       "    <tr>\n",
       "      <th>0</th>\n",
       "      <td>ATESTADO/JUST</td>\n",
       "      <td>6357.09</td>\n",
       "    </tr>\n",
       "    <tr>\n",
       "      <th>2</th>\n",
       "      <td>FALTA</td>\n",
       "      <td>2985.57</td>\n",
       "    </tr>\n",
       "    <tr>\n",
       "      <th>1</th>\n",
       "      <td>DSR</td>\n",
       "      <td>1260.10</td>\n",
       "    </tr>\n",
       "  </tbody>\n",
       "</table>\n",
       "</div>"
      ],
      "text/plain": [
       "          MOTIVO  VALOR_CALCULADO\n",
       "0  ATESTADO/JUST          6357.09\n",
       "2          FALTA          2985.57\n",
       "1            DSR          1260.10"
      ]
     },
     "metadata": {},
     "output_type": "display_data"
    },
    {
     "data": {
      "text/plain": [
       "<AxesSubplot:title={'center':'Custo por motivo de ausência'}, xlabel='MOTIVO', ylabel='VALOR_CALCULADO'>"
      ]
     },
     "execution_count": 7,
     "metadata": {},
     "output_type": "execute_result"
    },
    {
     "data": {
      "image/png": "[encoded data removed]",
      "text/plain": [
       "<Figure size 432x216 with 1 Axes>"
      ]
     },
     "metadata": {
      "needs_background": "light"
     },
     "output_type": "display_data"
    }
   ],
   "source": [
    "df_motivo = df_lev.groupby(['MOTIVO']).sum().reset_index()\n",
    "df_motivo = df_motivo[['MOTIVO', 'VALOR_CALCULADO']]\n",
    "df_motivo= df_motivo.sort_values(by=['VALOR_CALCULADO'], ascending=False)\n",
    "plt.figure(figsize=(6,3))\n",
    "plt.xticks(rotation = 45)\n",
    "plt.title('Custo por motivo de ausência')\n",
    "display(df_motivo)\n",
    "sns.barplot(data=df_motivo, x='MOTIVO', y='VALOR_CALCULADO')"
   ]
  }
 ],
 "metadata": {
  "kernelspec": {
   "display_name": "Python 3",
   "language": "python",
   "name": "python3"
  },
  "language_info": {
   "codemirror_mode": {
    "name": "ipython",
    "version": 3
   },
   "file_extension": ".py",
   "mimetype": "text/x-python",
   "name": "python",
   "nbconvert_exporter": "python",
   "pygments_lexer": "ipython3",
   "version": "3.11.0"
  },
  "vscode": {
   "interpreter": {
    "hash": "c261aea317cc0286b3b3261fbba9abdec21eaa57589985bb7a274bf54d6cc0a7"
   }
  }
 },
 "nbformat": 4,
 "nbformat_minor": 2
}
