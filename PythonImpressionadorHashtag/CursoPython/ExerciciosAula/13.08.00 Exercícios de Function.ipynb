{
 "cells": [
  {
   "cell_type": "markdown",
   "metadata": {},
   "source": [
    "# Exercícios\n",
    "\n",
    "### Antes de irmos para o desafio que apresentamos na última aula (que é bem mais complexo do que um exemplo simples) vamos resolver um exercício um pouco mais simples para treinar\n",
    "\n",
    "## 1. Cálculo do Percentual e da Lista de Vendedores\n",
    "\n",
    "- Queremos criar uma function que consiga identificar os vendedores que bateram uma meta, mas além disso, consigo já me dar como resposta o cálculo do % da lista de vendedores que bateu a meta (para eu não precisar calcular manualmente depois)\n",
    "- Essa function deve receber 2 informações como parâmetro: a meta e um dicionário com os vendedores e suas vendas. E me dar 2 respostas: uma lista com o nome dos vendedores que bateram a meta e o % de vendedores que bateu a meta."
   ]
  },
  {
   "cell_type": "code",
   "execution_count": 5,
   "metadata": {},
   "outputs": [],
   "source": [
    "from prettytable import PrettyTable"
   ]
  },
  {
   "cell_type": "code",
   "execution_count": 2,
   "metadata": {},
   "outputs": [],
   "source": [
    "meta = 10000\n",
    "vendas = {\n",
    "    'João': 15000,\n",
    "    'Julia': 27000,\n",
    "    'Marcus': 9900,\n",
    "    'Maria': 3750,\n",
    "    'Ana': 10300,\n",
    "    'Alon': 7870,\n",
    "}"
   ]
  },
  {
   "cell_type": "code",
   "execution_count": 53,
   "metadata": {},
   "outputs": [
    {
     "name": "stdout",
     "output_type": "stream",
     "text": [
      "+--------------------+--------------+\n",
      "|      Vendedor      | Total Vendas |\n",
      "+--------------------+--------------+\n",
      "|        João        |    15000     |\n",
      "|       Julia        |    27000     |\n",
      "|        Ana         |    10300     |\n",
      "|                    |              |\n",
      "|  Total Vendedores  |      6       |\n",
      "| Total Vend. c/Meta |      3       |\n",
      "| Vendedores c/ Meta |    50.00%    |\n",
      "| Vendas Acima Meta  |    52300     |\n",
      "|   Vendas Totais    |    73820     |\n",
      "+--------------------+--------------+\n"
     ]
    }
   ],
   "source": [
    "#crie sua function aqui\n",
    "\n",
    "# criar função para listar vendedores que bateram a meta\n",
    "def listarVendedoresBateramMeta(Vendas):\n",
    "  # criar tabela\n",
    "  listaVendedoresBateramMeta = PrettyTable()\n",
    "  listaVendedoresBateramMeta.field_names = (['Vendedor', 'Total Vendas'])\n",
    "  # adiconar dados a tabela\n",
    "  contarTotalDeVendedores = len(vendas)\n",
    "  totalVendidoAcimaMeta = 0\n",
    "  totalDeVendas = sum(vendas.values())\n",
    "  for nomeVendedor, totalVendidoPorVendedor in vendas.items():\n",
    "    if totalVendidoPorVendedor >= meta:\n",
    "      listaVendedoresBateramMeta.add_row([nomeVendedor, totalVendidoPorVendedor])\n",
    "      contarVendedoresBateraMeta = len(nomeVendedor)\n",
    "      totalVendidoAcimaMeta += totalVendidoPorVendedor\n",
    "  #calculando % dde vendedores que bateram meta\n",
    "  calcularPercentualVendedoresBateramMeta = contarVendedoresBateraMeta / contarTotalDeVendedores\n",
    "  # inserindo rodapés na tabela\n",
    "  listaVendedoresBateramMeta.add_row(['',''])\n",
    "  listaVendedoresBateramMeta.add_row(['Total Vendedores', f'{contarTotalDeVendedores}'])\n",
    "  listaVendedoresBateramMeta.add_row(['Total Vend. c/Meta', f'{contarVendedoresBateraMeta}'])\n",
    "  listaVendedoresBateramMeta.add_row(['Vendedores c/ Meta', f'{calcularPercentualVendedoresBateramMeta:.2%}'])\n",
    "  listaVendedoresBateramMeta.add_row(['Vendas Acima Meta', f'{totalVendidoAcimaMeta}'])\n",
    "  listaVendedoresBateramMeta.add_row(['Vendas Totais', f'{totalDeVendas}'])\n",
    "  return listaVendedoresBateramMeta\n",
    "\n",
    "print(listarVendedoresBateramMeta(vendas))\n"
   ]
  }
 ],
 "metadata": {
  "kernelspec": {
   "display_name": "Python 3",
   "language": "python",
   "name": "python3"
  },
  "language_info": {
   "codemirror_mode": {
    "name": "ipython",
    "version": 3
   },
   "file_extension": ".py",
   "mimetype": "text/x-python",
   "name": "python",
   "nbconvert_exporter": "python",
   "pygments_lexer": "ipython3",
   "version": "3.11.0"
  }
 },
 "nbformat": 4,
 "nbformat_minor": 4
}
