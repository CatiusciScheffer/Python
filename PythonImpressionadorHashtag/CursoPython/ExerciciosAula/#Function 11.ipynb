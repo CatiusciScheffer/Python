{
 "cells": [
  {
   "cell_type": "markdown",
   "metadata": {},
   "source": [
    "# Quantidade Indefinidas de Argumentos\n",
    "\n",
    "### Utilidade:\n",
    "\n",
    "Quando você quer permitir uma quantidade indefinida de argumentos, usa o * para isso.\n",
    "\n",
    "### Estrutura:"
   ]
  },
  {
   "cell_type": "raw",
   "metadata": {},
   "source": [
    "*args para positional arguments -> argumentos vêm em formato de tupla\n",
    "\n",
    "def minha_funcao(*args):\n",
    "    ...\n",
    "\n",
    "\n",
    "**kwargs para keyword arguments -> argumentos vêm em formato de dicionário\n",
    "\n",
    "def minha_funcao(**kwargs):\n",
    "    ..."
   ]
  },
  {
   "cell_type": "code",
   "execution_count": 1,
   "metadata": {},
   "outputs": [],
   "source": [
    "def minha_soma(*numeros):\n",
    "    print(numeros)\n",
    "    soma = 0\n",
    "    for numero in numeros:\n",
    "        soma += numero\n",
    "    return soma"
   ]
  },
  {
   "cell_type": "code",
   "execution_count": null,
   "metadata": {},
   "outputs": [],
   "source": []
  },
  {
   "cell_type": "code",
   "execution_count": 2,
   "metadata": {},
   "outputs": [],
   "source": [
    "def preco_final(preco, **adicionais):\n",
    "    print(adicionais)\n",
    "    if 'desconto' in adicionais:\n",
    "        preco *= (1 - adicionais['desconto'])\n",
    "    if 'garantia_extra' in adicionais:\n",
    "        preco += adicionais['garantia_extra'] \n",
    "    if 'imposto' in adicionais:\n",
    "        preco *= (1 + adicionais['imposto'])\n",
    "    return preco"
   ]
  },
  {
   "cell_type": "code",
   "execution_count": 50,
   "metadata": {},
   "outputs": [],
   "source": [
    "import pandas as pd\n",
    "\n",
    "\n",
    "def notasToMedia():\n",
    "  \n",
    "  listaDadosAluno = []\n",
    "  listaNotas = []\n",
    "  nomeAluno = str(input('Nome do aluno: '))\n",
    "  listaDadosAluno.append(nomeAluno)\n",
    "  quantidadeNotas = int(input('Quantas notas irão compor a média? '))\n",
    "  listaDadosAluno.append(quantidadeNotas)\n",
    "  \n",
    "  for notas in range(quantidadeNotas):\n",
    "    notas = float(input(f'Digite a {notas + 1}ª nota para média do alunoa: '))\n",
    "    listaNotas.append(notas)\n",
    "    listaDadosAluno.append(listaNotas)\n",
    "    mediaDoAluno = sum(listaNotas) / quantidadeNotas\n",
    "    \n",
    "  return nomeAluno, quantidadeNotas, listaNotas, mediaDoAluno\n",
    "\n",
    "\n"
   ]
  },
  {
   "cell_type": "code",
   "execution_count": 51,
   "metadata": {},
   "outputs": [
    {
     "name": "stdout",
     "output_type": "stream",
     "text": [
      "  Nome do Aluno  Qtd. Notas/Méd            Notas  Média Final\n",
      "0        leleca               3  [5.0, 6.0, 8.6]     6.533333\n"
     ]
    }
   ],
   "source": [
    "nomeAluno, quantidadeNotas, listaNotas, mediaDoAluno = notasToMedia()\n",
    "# criar um data frame para mostrar as informações acima\n",
    "df = pd.DataFrame({\n",
    "  'Nome do Aluno': [nomeAluno],\n",
    "  'Qtd. Notas/Méd': [quantidadeNotas],\n",
    "  'Notas': [listaNotas],\n",
    "  'Média Final': [mediaDoAluno]\n",
    "})\n",
    "\n",
    "#exibir tabela\n",
    "print(df)"
   ]
  }
 ],
 "metadata": {
  "kernelspec": {
   "display_name": "Python 3",
   "language": "python",
   "name": "python3"
  },
  "language_info": {
   "codemirror_mode": {
    "name": "ipython",
    "version": 3
   },
   "file_extension": ".py",
   "mimetype": "text/x-python",
   "name": "python",
   "nbconvert_exporter": "python",
   "pygments_lexer": "ipython3",
   "version": "3.11.0"
  }
 },
 "nbformat": 4,
 "nbformat_minor": 4
}
